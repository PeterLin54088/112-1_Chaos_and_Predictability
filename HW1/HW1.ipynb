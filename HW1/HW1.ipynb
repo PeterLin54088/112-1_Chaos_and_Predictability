{
 "cells": [
  {
   "cell_type": "markdown",
   "id": "9223187b-5d30-4db8-8bd7-3bb12543f692",
   "metadata": {},
   "source": [
    "# Preprocessing"
   ]
  },
  {
   "cell_type": "code",
   "execution_count": 1,
   "id": "6f93d86f-c8d1-4e71-8564-4b768714631d",
   "metadata": {
    "tags": []
   },
   "outputs": [],
   "source": [
    "import numpy as np\n",
    "import os\n",
    "import matplotlib.pyplot as plt"
   ]
  },
  {
   "cell_type": "markdown",
   "id": "232ab76a-70f8-4ecd-b7bc-4c8921b8f79e",
   "metadata": {
    "tags": []
   },
   "source": [
    "# Self-define object"
   ]
  },
  {
   "cell_type": "markdown",
   "id": "d3a47293-8f21-4b96-9db7-a31dedc4eee7",
   "metadata": {
    "tags": []
   },
   "source": [
    "## Timestepper"
   ]
  },
  {
   "cell_type": "code",
   "execution_count": 2,
   "id": "8bbc203f-aedb-4ff5-b2f0-8e81abfd162a",
   "metadata": {
    "tags": []
   },
   "outputs": [],
   "source": [
    "class timestepper_Euler(object):\n",
    "    \"\"\"\n",
    "    Euler method\n",
    "    \"\"\"\n",
    "    def __init__(self, operator, ncycle = 0):\n",
    "        self.ncycle = ncycle\n",
    "        self.operator = operator\n",
    "        \n",
    "    def integrate(self, t, fields, dt, args = None):\n",
    "        state = np.array(fields)\n",
    "        new_state = state + dt*np.array(self.operator(t, state, args))\n",
    "        new_t = t+dt\n",
    "        self.ncycle += 1\n",
    "        return (new_t, new_state)\n",
    "class timestepper_RK4(object):\n",
    "    \"\"\"\n",
    "    Euler method\n",
    "    \"\"\"\n",
    "    def __init__(self, operator, ncycle = 0):\n",
    "        self.ncycle = ncycle\n",
    "        self.operator = operator\n",
    "        \n",
    "    def integrate(self, t, fields, dt, args = None):\n",
    "        state = np.array(fields)\n",
    "        k1 = np.array(self.operator(t, state, args))\n",
    "        k2 = np.array(self.operator(t, state + dt/2*k1, args))\n",
    "        k3 = np.array(self.operator(t, state + dt/2*k2, args))\n",
    "        k4 = np.array(self.operator(t, state + dt*k3, args))\n",
    "        new_state = state + dt/6*(k1+2*k2+2*k3+k4)\n",
    "        new_t = t+dt\n",
    "        self.ncycle += 1\n",
    "        return (new_t, new_state)"
   ]
  },
  {
   "cell_type": "markdown",
   "id": "387286e7-a447-486c-8819-1d9d296198d0",
   "metadata": {
    "tags": []
   },
   "source": [
    "## Dynamical operator"
   ]
  },
  {
   "cell_type": "code",
   "execution_count": 3,
   "id": "ccf28534-7bed-46cd-96b5-a8ab0c40f969",
   "metadata": {
    "tags": []
   },
   "outputs": [],
   "source": [
    "def dfdt(t, state, args=None):\n",
    "    \n",
    "    [x, y, z] = state\n",
    "    [alpha, beta, rho] = args\n",
    "    \n",
    "    dx = alpha*(y-x)\n",
    "    dy = x*(rho-z)-y\n",
    "    dz = x*y-beta*z\n",
    "    return [dx, dy, dz]"
   ]
  },
  {
   "cell_type": "markdown",
   "id": "89705919-8c0c-4fea-ba1f-e7573be7ef72",
   "metadata": {
    "tags": []
   },
   "source": [
    "# Model setting"
   ]
  },
  {
   "cell_type": "markdown",
   "id": "24bd685a-59a1-4f92-8bed-97e37cf3b006",
   "metadata": {
    "tags": []
   },
   "source": [
    "## Parameter"
   ]
  },
  {
   "cell_type": "code",
   "execution_count": 4,
   "id": "1327b551-7523-4e26-9214-557554329454",
   "metadata": {
    "tags": []
   },
   "outputs": [],
   "source": [
    "alpha = 10.\n",
    "beta = 8/3\n",
    "rho = 24.74"
   ]
  },
  {
   "cell_type": "markdown",
   "id": "a70aefef-00cf-4985-ad39-b811f6c41173",
   "metadata": {},
   "source": [
    "## Run"
   ]
  },
  {
   "cell_type": "code",
   "execution_count": null,
   "id": "cdcca20d-bbbc-4ad0-83e3-3f494c89b1ac",
   "metadata": {
    "tags": []
   },
   "outputs": [
    {
     "data": {
      "text/plain": [
       "Text(0.5, 0.92, 'Euler, dt = 1e-3')"
      ]
     },
     "execution_count": 5,
     "metadata": {},
     "output_type": "execute_result"
    }
   ],
   "source": [
    "x = 0.1\n",
    "y = 0\n",
    "z = 0\n",
    "integrator = timestepper_Euler(dfdt, ncycle=0)\n",
    "tmax = 1*60\n",
    "t    = 0\n",
    "dt   = 1e-4\n",
    "t_next = 0\n",
    "init = np.copy([x, y, z])\n",
    "packed = np.zeros((int(tmax/dt)+2,3))\n",
    "packed[0,:] = init\n",
    "i = 1\n",
    "while(t<tmax):\n",
    "        t, [x, y, z] = integrator.integrate(t, [x, y, z], dt, [alpha, beta, rho])\n",
    "        packed[i,:] = np.array([x,y,z])\n",
    "        i += 1\n",
    "fig = plt.figure()\n",
    "ax = fig.add_subplot(projection='3d')\n",
    "ax.plot(packed[:,0],packed[:,1],packed[:,2], 'k',linewidth = 0.1)\n",
    "ax.set_title(\"Euler, dt = 1e-3\")"
   ]
  },
  {
   "cell_type": "code",
   "execution_count": null,
   "id": "b68c889c-a190-4da5-9c84-e2487c8a411b",
   "metadata": {
    "tags": []
   },
   "outputs": [],
   "source": [
    "x = 0.1\n",
    "y = 0\n",
    "z = 0\n",
    "integrator = timestepper_RK4(dfdt, ncycle=0)\n",
    "tmax = 50\n",
    "t    = 0\n",
    "dt   = 1e-3\n",
    "t_next = 0\n",
    "init = np.copy([x, y, z])\n",
    "packed = np.zeros((int(tmax/dt)+2,3))\n",
    "packed[0,:] = init\n",
    "i = 1\n",
    "while(t<tmax):\n",
    "        t, [x, y, z] = integrator.integrate(t, [x, y, z], dt, [alpha, beta, rho])\n",
    "        packed[i,:] = np.array([x,y,z])\n",
    "        i += 1\n",
    "fig = plt.figure()\n",
    "ax = fig.add_subplot(projection='3d')\n",
    "ax.plot(packed[:,0],packed[:,1],packed[:,2], 'k',linewidth = 0.1)\n",
    "ax.set_title(\"RK4, dt = 1e-2\")"
   ]
  },
  {
   "cell_type": "markdown",
   "id": "225226f5-72e6-492e-93bf-855332161696",
   "metadata": {
    "tags": []
   },
   "source": [
    "# Plot"
   ]
  },
  {
   "cell_type": "code",
   "execution_count": null,
   "id": "d723fbe8-b501-4666-aef1-df0224eab109",
   "metadata": {},
   "outputs": [],
   "source": []
  },
  {
   "cell_type": "code",
   "execution_count": null,
   "id": "e872124b-367e-4165-9d48-362409777116",
   "metadata": {},
   "outputs": [],
   "source": []
  }
 ],
 "metadata": {
  "kernelspec": {
   "display_name": "default",
   "language": "python",
   "name": "default"
  },
  "language_info": {
   "codemirror_mode": {
    "name": "ipython",
    "version": 3
   },
   "file_extension": ".py",
   "mimetype": "text/x-python",
   "name": "python",
   "nbconvert_exporter": "python",
   "pygments_lexer": "ipython3",
   "version": "3.11.5"
  }
 },
 "nbformat": 4,
 "nbformat_minor": 5
}
